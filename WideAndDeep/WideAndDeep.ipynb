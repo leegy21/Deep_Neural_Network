{
  "cells": [
    {
      "cell_type": "code",
      "execution_count": null,
      "metadata": {
        "id": "CBDb_90N5GIt"
      },
      "outputs": [],
      "source": [
        "from sklearn.datasets import fetch_california_housing\n",
        "from sklearn.model_selection import train_test_split\n",
        "from sklearn.preprocessing import StandardScaler\n",
        "\n",
        "housing = fetch_california_housing()"
      ]
    },
    {
      "cell_type": "code",
      "execution_count": null,
      "metadata": {
        "colab": {
          "base_uri": "https://localhost:8080/"
        },
        "id": "4Q7aUjVf5ZdB",
        "outputId": "4f5c13ff-aa87-4561-c310-dab61fc50170"
      },
      "outputs": [
        {
          "data": {
            "text/plain": [
              "array([[   8.3252    ,   41.        ,    6.98412698, ...,    2.55555556,\n",
              "          37.88      , -122.23      ],\n",
              "       [   8.3014    ,   21.        ,    6.23813708, ...,    2.10984183,\n",
              "          37.86      , -122.22      ],\n",
              "       [   7.2574    ,   52.        ,    8.28813559, ...,    2.80225989,\n",
              "          37.85      , -122.24      ],\n",
              "       ...,\n",
              "       [   1.7       ,   17.        ,    5.20554273, ...,    2.3256351 ,\n",
              "          39.43      , -121.22      ],\n",
              "       [   1.8672    ,   18.        ,    5.32951289, ...,    2.12320917,\n",
              "          39.43      , -121.32      ],\n",
              "       [   2.3886    ,   16.        ,    5.25471698, ...,    2.61698113,\n",
              "          39.37      , -121.24      ]])"
            ]
          },
          "execution_count": 22,
          "metadata": {},
          "output_type": "execute_result"
        }
      ],
      "source": [
        "housing.data"
      ]
    },
    {
      "cell_type": "code",
      "execution_count": null,
      "metadata": {
        "id": "iyuz8P365fZ-"
      },
      "outputs": [],
      "source": [
        "X_train_full, X_test, y_train_full, y_test = train_test_split(housing.data, housing.target, random_state=42)\n",
        "X_train, X_valid, y_train, y_valid = train_test_split(X_train_full, y_train_full, random_state=42)\n",
        "\n",
        "scaler = StandardScaler()\n",
        "X_train = scaler.fit_transform(X_train)\n",
        "X_valid = scaler.transform(X_valid)\n",
        "X_test = scaler.transform(X_test)"
      ]
    },
    {
      "cell_type": "code",
      "execution_count": null,
      "metadata": {
        "id": "yfzxYlMo51r4"
      },
      "outputs": [],
      "source": [
        "import tensorflow as tf\n",
        "from tensorflow import keras\n",
        "import pandas as pd\n",
        "import matplotlib.pyplot as plt\n",
        "import numpy as np"
      ]
    },
    {
      "cell_type": "code",
      "execution_count": null,
      "metadata": {
        "colab": {
          "base_uri": "https://localhost:8080/"
        },
        "id": "E6cML7OR5-So",
        "outputId": "e7211867-45f5-4541-807d-fc46a4dd7605"
      },
      "outputs": [
        {
          "name": "stdout",
          "output_type": "stream",
          "text": [
            "Epoch 1/20\n",
            "363/363 [==============================] - 1s 2ms/step - loss: 1.9792 - val_loss: 2.5899\n",
            "Epoch 2/20\n",
            "363/363 [==============================] - 1s 2ms/step - loss: 0.7827 - val_loss: 0.9902\n",
            "Epoch 3/20\n",
            "363/363 [==============================] - 1s 2ms/step - loss: 0.6479 - val_loss: 0.6491\n",
            "Epoch 4/20\n",
            "363/363 [==============================] - 1s 2ms/step - loss: 0.6006 - val_loss: 0.5486\n",
            "Epoch 5/20\n",
            "363/363 [==============================] - 1s 2ms/step - loss: 0.5707 - val_loss: 0.5205\n",
            "Epoch 6/20\n",
            "363/363 [==============================] - 1s 2ms/step - loss: 0.5483 - val_loss: 0.5016\n",
            "Epoch 7/20\n",
            "363/363 [==============================] - 1s 2ms/step - loss: 0.5300 - val_loss: 0.4868\n",
            "Epoch 8/20\n",
            "363/363 [==============================] - 1s 2ms/step - loss: 0.5149 - val_loss: 0.4718\n",
            "Epoch 9/20\n",
            "363/363 [==============================] - 1s 3ms/step - loss: 0.5021 - val_loss: 0.4617\n",
            "Epoch 10/20\n",
            "363/363 [==============================] - 1s 4ms/step - loss: 0.4916 - val_loss: 0.4492\n",
            "Epoch 11/20\n",
            "363/363 [==============================] - 1s 3ms/step - loss: 0.4823 - val_loss: 0.4404\n",
            "Epoch 12/20\n",
            "363/363 [==============================] - 2s 4ms/step - loss: 0.4739 - val_loss: 0.4342\n",
            "Epoch 13/20\n",
            "363/363 [==============================] - 2s 4ms/step - loss: 0.4673 - val_loss: 0.4270\n",
            "Epoch 14/20\n",
            "363/363 [==============================] - 2s 5ms/step - loss: 0.4610 - val_loss: 0.4242\n",
            "Epoch 15/20\n",
            "363/363 [==============================] - 1s 4ms/step - loss: 0.4555 - val_loss: 0.4209\n",
            "Epoch 16/20\n",
            "363/363 [==============================] - 1s 4ms/step - loss: 0.4507 - val_loss: 0.4173\n",
            "Epoch 17/20\n",
            "363/363 [==============================] - 1s 4ms/step - loss: 0.4462 - val_loss: 0.4127\n",
            "Epoch 18/20\n",
            "363/363 [==============================] - 1s 4ms/step - loss: 0.4426 - val_loss: 0.4155\n",
            "Epoch 19/20\n",
            "363/363 [==============================] - 1s 4ms/step - loss: 0.4389 - val_loss: 0.4165\n",
            "Epoch 20/20\n",
            "363/363 [==============================] - 1s 4ms/step - loss: 0.4356 - val_loss: 0.4163\n"
          ]
        }
      ],
      "source": [
        "model = keras.models.Sequential([\n",
        "    keras.layers.Dense(30, activation=\"relu\", input_shape=X_train.shape[1:]),\n",
        "    keras.layers.Dense(1)])\n",
        "model.compile(loss=\"mean_squared_error\", optimizer=keras.optimizers.SGD(learning_rate=1e-3))\n",
        "history = model.fit(X_train, y_train, epochs=20, validation_data=(X_valid, y_valid))"
      ]
    },
    {
      "cell_type": "code",
      "execution_count": null,
      "metadata": {
        "colab": {
          "base_uri": "https://localhost:8080/"
        },
        "id": "43cJFY8C6EO3",
        "outputId": "e5c9fa88-b67b-4311-b7e7-a4f237da5c66"
      },
      "outputs": [
        {
          "name": "stdout",
          "output_type": "stream",
          "text": [
            "162/162 [==============================] - 1s 3ms/step - loss: 0.4289\n",
            "1/1 [==============================] - 0s 58ms/step\n"
          ]
        }
      ],
      "source": [
        "mse_test = model.evaluate(X_test, y_test)\n",
        "X_new = X_test[:3]\n",
        "y_pred = model.predict(X_new)"
      ]
    },
    {
      "cell_type": "code",
      "execution_count": null,
      "metadata": {
        "id": "NpzRiozD6drp"
      },
      "outputs": [],
      "source": [
        "input_ = keras.layers.Input(shape=X_train.shape[1:])\n",
        "hidden1 = keras.layers.Dense(30, activation=\"relu\")(input_)\n",
        "hidden2 = keras.layers.Dense(30, activation=\"relu\")(hidden1)\n",
        "concat = keras.layers.concatenate([input_, hidden2])\n",
        "output = keras.layers.Dense(1)(concat)\n",
        "model = keras.models.Model(inputs=[input_], outputs=[output])"
      ]
    },
    {
      "cell_type": "code",
      "execution_count": null,
      "metadata": {
        "colab": {
          "base_uri": "https://localhost:8080/"
        },
        "id": "3ya1plgS8PA4",
        "outputId": "6f6da02c-354f-4b4f-e810-2655d805d26b"
      },
      "outputs": [
        {
          "name": "stdout",
          "output_type": "stream",
          "text": [
            "Model: \"model_4\"\n",
            "__________________________________________________________________________________________________\n",
            " Layer (type)                Output Shape                 Param #   Connected to                  \n",
            "==================================================================================================\n",
            " input_2 (InputLayer)        [(None, 8)]                  0         []                            \n",
            "                                                                                                  \n",
            " dense_23 (Dense)            (None, 30)                   270       ['input_2[0][0]']             \n",
            "                                                                                                  \n",
            " dense_24 (Dense)            (None, 30)                   930       ['dense_23[0][0]']            \n",
            "                                                                                                  \n",
            " concatenate_5 (Concatenate  (None, 38)                   0         ['input_2[0][0]',             \n",
            " )                                                                   'dense_24[0][0]']            \n",
            "                                                                                                  \n",
            " dense_25 (Dense)            (None, 1)                    39        ['concatenate_5[0][0]']       \n",
            "                                                                                                  \n",
            "==================================================================================================\n",
            "Total params: 1239 (4.84 KB)\n",
            "Trainable params: 1239 (4.84 KB)\n",
            "Non-trainable params: 0 (0.00 Byte)\n",
            "__________________________________________________________________________________________________\n"
          ]
        }
      ],
      "source": [
        "model.summary()"
      ]
    },
    {
      "cell_type": "code",
      "execution_count": null,
      "metadata": {
        "colab": {
          "base_uri": "https://localhost:8080/"
        },
        "id": "KWL7THZN8bRP",
        "outputId": "1e1acb95-e363-458b-b39b-edeb8e31e5ed"
      },
      "outputs": [
        {
          "name": "stdout",
          "output_type": "stream",
          "text": [
            "Epoch 1/20\n",
            "363/363 [==============================] - 2s 2ms/step - loss: 1.8365 - val_loss: 1.0620\n",
            "Epoch 2/20\n",
            "363/363 [==============================] - 1s 2ms/step - loss: 0.7484 - val_loss: 0.6670\n",
            "Epoch 3/20\n",
            "363/363 [==============================] - 1s 2ms/step - loss: 0.6640 - val_loss: 0.6160\n",
            "Epoch 4/20\n",
            "363/363 [==============================] - 1s 2ms/step - loss: 0.6118 - val_loss: 0.5745\n",
            "Epoch 5/20\n",
            "363/363 [==============================] - 1s 2ms/step - loss: 0.5719 - val_loss: 0.5229\n",
            "Epoch 6/20\n",
            "363/363 [==============================] - 1s 2ms/step - loss: 0.5411 - val_loss: 0.5921\n",
            "Epoch 7/20\n",
            "363/363 [==============================] - 1s 2ms/step - loss: 0.5148 - val_loss: 0.4724\n",
            "Epoch 8/20\n",
            "363/363 [==============================] - 1s 2ms/step - loss: 0.4925 - val_loss: 0.4541\n",
            "Epoch 9/20\n",
            "363/363 [==============================] - 1s 2ms/step - loss: 0.4749 - val_loss: 0.4426\n",
            "Epoch 10/20\n",
            "363/363 [==============================] - 1s 2ms/step - loss: 0.4606 - val_loss: 0.4283\n",
            "Epoch 11/20\n",
            "363/363 [==============================] - 1s 2ms/step - loss: 0.4495 - val_loss: 0.4184\n",
            "Epoch 12/20\n",
            "363/363 [==============================] - 1s 2ms/step - loss: 0.4401 - val_loss: 0.4091\n",
            "Epoch 13/20\n",
            "363/363 [==============================] - 1s 2ms/step - loss: 0.4319 - val_loss: 0.4290\n",
            "Epoch 14/20\n",
            "363/363 [==============================] - 1s 2ms/step - loss: 0.4258 - val_loss: 0.4103\n",
            "Epoch 15/20\n",
            "363/363 [==============================] - 1s 2ms/step - loss: 0.4201 - val_loss: 0.4040\n",
            "Epoch 16/20\n",
            "363/363 [==============================] - 1s 3ms/step - loss: 0.4154 - val_loss: 0.3868\n",
            "Epoch 17/20\n",
            "363/363 [==============================] - 1s 3ms/step - loss: 0.4112 - val_loss: 0.4159\n",
            "Epoch 18/20\n",
            "363/363 [==============================] - 1s 2ms/step - loss: 0.4074 - val_loss: 0.3797\n",
            "Epoch 19/20\n",
            "363/363 [==============================] - 1s 2ms/step - loss: 0.4037 - val_loss: 0.3761\n",
            "Epoch 20/20\n",
            "363/363 [==============================] - 1s 2ms/step - loss: 0.4002 - val_loss: 0.4199\n",
            "162/162 [==============================] - 0s 1ms/step - loss: 0.3936\n",
            "1/1 [==============================] - 0s 45ms/step\n"
          ]
        }
      ],
      "source": [
        "model.compile(loss=\"mean_squared_error\", optimizer=keras.optimizers.SGD(learning_rate=1e-3))\n",
        "history = model.fit(X_train, y_train, epochs=20,\n",
        "                    validation_data=(X_valid, y_valid))\n",
        "mse_test = model.evaluate(X_test, y_test)\n",
        "y_pred = model.predict(X_new)"
      ]
    },
    {
      "cell_type": "code",
      "execution_count": null,
      "metadata": {
        "id": "qepk835l8j9v"
      },
      "outputs": [],
      "source": [
        "input_A = keras.layers.Input(shape=[5], name=\"wide_input\")\n",
        "input_B = keras.layers.Input(shape=[6], name=\"deep_input\")\n",
        "hidden1 = keras.layers.Dense(30, activation=\"relu\")(input_B)\n",
        "hidden2 = keras.layers.Dense(30, activation=\"relu\")(hidden1)\n",
        "concat = keras.layers.concatenate([input_A, hidden2])\n",
        "output = keras.layers.Dense(1, name=\"output\")(concat)\n",
        "model = keras.models.Model(inputs=[input_A, input_B], outputs=[output])"
      ]
    },
    {
      "cell_type": "code",
      "execution_count": null,
      "metadata": {
        "colab": {
          "base_uri": "https://localhost:8080/"
        },
        "id": "7XZh6NUo8vmo",
        "outputId": "e5a9f546-f01d-4656-ab12-ed576f5be395"
      },
      "outputs": [
        {
          "name": "stdout",
          "output_type": "stream",
          "text": [
            "Epoch 1/20\n",
            "363/363 [==============================] - 1s 2ms/step - loss: 2.2390 - val_loss: 1.3037\n",
            "Epoch 2/20\n",
            "363/363 [==============================] - 1s 3ms/step - loss: 0.7415 - val_loss: 0.6691\n",
            "Epoch 3/20\n",
            "363/363 [==============================] - 1s 3ms/step - loss: 0.6063 - val_loss: 0.5722\n",
            "Epoch 4/20\n",
            "363/363 [==============================] - 1s 2ms/step - loss: 0.5571 - val_loss: 0.5262\n",
            "Epoch 5/20\n",
            "363/363 [==============================] - 1s 2ms/step - loss: 0.5288 - val_loss: 0.4972\n",
            "Epoch 6/20\n",
            "363/363 [==============================] - 1s 2ms/step - loss: 0.5091 - val_loss: 0.4822\n",
            "Epoch 7/20\n",
            "363/363 [==============================] - 1s 2ms/step - loss: 0.4943 - val_loss: 0.4636\n",
            "Epoch 8/20\n",
            "363/363 [==============================] - 1s 2ms/step - loss: 0.4828 - val_loss: 0.4536\n",
            "Epoch 9/20\n",
            "363/363 [==============================] - 1s 2ms/step - loss: 0.4735 - val_loss: 0.4516\n",
            "Epoch 10/20\n",
            "363/363 [==============================] - 1s 2ms/step - loss: 0.4661 - val_loss: 0.4442\n",
            "Epoch 11/20\n",
            "363/363 [==============================] - 1s 2ms/step - loss: 0.4596 - val_loss: 0.4394\n",
            "Epoch 12/20\n",
            "363/363 [==============================] - 1s 2ms/step - loss: 0.4540 - val_loss: 0.4378\n",
            "Epoch 13/20\n",
            "363/363 [==============================] - 1s 2ms/step - loss: 0.4491 - val_loss: 0.4266\n",
            "Epoch 14/20\n",
            "363/363 [==============================] - 1s 2ms/step - loss: 0.4449 - val_loss: 0.4213\n",
            "Epoch 15/20\n",
            "363/363 [==============================] - 1s 2ms/step - loss: 0.4409 - val_loss: 0.4194\n",
            "Epoch 16/20\n",
            "363/363 [==============================] - 1s 2ms/step - loss: 0.4376 - val_loss: 0.4155\n",
            "Epoch 17/20\n",
            "363/363 [==============================] - 1s 2ms/step - loss: 0.4343 - val_loss: 0.4119\n",
            "Epoch 18/20\n",
            "363/363 [==============================] - 1s 2ms/step - loss: 0.4313 - val_loss: 0.4092\n",
            "Epoch 19/20\n",
            "363/363 [==============================] - 1s 3ms/step - loss: 0.4287 - val_loss: 0.4121\n",
            "Epoch 20/20\n",
            "363/363 [==============================] - 1s 2ms/step - loss: 0.4264 - val_loss: 0.4186\n",
            "162/162 [==============================] - 0s 1ms/step - loss: 0.4158\n",
            "1/1 [==============================] - 0s 48ms/step\n"
          ]
        }
      ],
      "source": [
        "model.compile(loss=\"mse\", optimizer=keras.optimizers.SGD(learning_rate=1e-3))\n",
        "\n",
        "X_train_A, X_train_B = X_train[:, :5], X_train[:, 2:]\n",
        "X_valid_A, X_valid_B = X_valid[:, :5], X_valid[:, 2:]\n",
        "X_test_A, X_test_B = X_test[:, :5], X_test[:, 2:]\n",
        "X_new_A, X_new_B = X_test_A[:3], X_test_B[:3]\n",
        "\n",
        "history = model.fit((X_train_A, X_train_B), y_train, epochs=20,\n",
        "                    validation_data=((X_valid_A, X_valid_B), y_valid))\n",
        "mse_test = model.evaluate((X_test_A, X_test_B), y_test)\n",
        "y_pred = model.predict((X_new_A, X_new_B))"
      ]
    },
    {
      "cell_type": "code",
      "execution_count": null,
      "metadata": {
        "id": "pFvnV3Yu8879"
      },
      "outputs": [],
      "source": [
        "input_A = keras.layers.Input(shape=[5], name=\"wide_input\")\n",
        "input_B = keras.layers.Input(shape=[6], name=\"deep_input\")\n",
        "hidden1 = keras.layers.Dense(30, activation=\"relu\")(input_B)\n",
        "hidden2 = keras.layers.Dense(30, activation=\"relu\")(hidden1)\n",
        "concat = keras.layers.concatenate([input_A, hidden2])\n",
        "output = keras.layers.Dense(1, name=\"main_output\")(concat)\n",
        "aux_output = keras.layers.Dense(1, name=\"aux_output\")(hidden2)\n",
        "model = keras.models.Model(inputs=[input_A, input_B],\n",
        "                           outputs=[output, aux_output])"
      ]
    },
    {
      "cell_type": "code",
      "execution_count": null,
      "metadata": {
        "id": "xomHbljB9Ruf"
      },
      "outputs": [],
      "source": [
        "model.compile(loss=[\"mse\", \"mse\"], loss_weights=[0.9, 0.1], optimizer=keras.optimizers.SGD(learning_rate=1e-3))"
      ]
    },
    {
      "cell_type": "code",
      "execution_count": null,
      "metadata": {
        "colab": {
          "base_uri": "https://localhost:8080/"
        },
        "id": "tdEjwBUg9Zo-",
        "outputId": "0175270f-4ac4-4254-ce5c-648c5a628cbd"
      },
      "outputs": [
        {
          "name": "stdout",
          "output_type": "stream",
          "text": [
            "Epoch 1/20\n",
            "363/363 [==============================] - 1s 2ms/step - loss: 2.4720 - main_output_loss: 2.1827 - aux_output_loss: 5.0756 - val_loss: 1.5104 - val_main_output_loss: 1.1738 - val_aux_output_loss: 4.5398\n",
            "Epoch 2/20\n",
            "363/363 [==============================] - 1s 2ms/step - loss: 0.9509 - main_output_loss: 0.7168 - aux_output_loss: 3.0569 - val_loss: 1.1304 - val_main_output_loss: 0.7624 - val_aux_output_loss: 4.4425\n",
            "Epoch 3/20\n",
            "363/363 [==============================] - 1s 2ms/step - loss: 0.7712 - main_output_loss: 0.6242 - aux_output_loss: 2.0943 - val_loss: 0.9610 - val_main_output_loss: 0.5939 - val_aux_output_loss: 4.2649\n",
            "Epoch 4/20\n",
            "363/363 [==============================] - 1s 2ms/step - loss: 0.6973 - main_output_loss: 0.5869 - aux_output_loss: 1.6901 - val_loss: 0.8976 - val_main_output_loss: 0.5549 - val_aux_output_loss: 3.9814\n",
            "Epoch 5/20\n",
            "363/363 [==============================] - 1s 2ms/step - loss: 0.6564 - main_output_loss: 0.5628 - aux_output_loss: 1.4990 - val_loss: 0.8310 - val_main_output_loss: 0.5311 - val_aux_output_loss: 3.5305\n",
            "Epoch 6/20\n",
            "363/363 [==============================] - 1s 2ms/step - loss: 0.6293 - main_output_loss: 0.5443 - aux_output_loss: 1.3940 - val_loss: 0.7602 - val_main_output_loss: 0.5121 - val_aux_output_loss: 2.9935\n",
            "Epoch 7/20\n",
            "363/363 [==============================] - 1s 2ms/step - loss: 0.6089 - main_output_loss: 0.5297 - aux_output_loss: 1.3218 - val_loss: 0.7073 - val_main_output_loss: 0.5003 - val_aux_output_loss: 2.5702\n",
            "Epoch 8/20\n",
            "363/363 [==============================] - 1s 2ms/step - loss: 0.5923 - main_output_loss: 0.5170 - aux_output_loss: 1.2697 - val_loss: 0.6547 - val_main_output_loss: 0.4858 - val_aux_output_loss: 2.1749\n",
            "Epoch 9/20\n",
            "363/363 [==============================] - 1s 2ms/step - loss: 0.5782 - main_output_loss: 0.5061 - aux_output_loss: 1.2274 - val_loss: 0.6157 - val_main_output_loss: 0.4751 - val_aux_output_loss: 1.8809\n",
            "Epoch 10/20\n",
            "363/363 [==============================] - 1s 2ms/step - loss: 0.5658 - main_output_loss: 0.4961 - aux_output_loss: 1.1925 - val_loss: 0.5893 - val_main_output_loss: 0.4689 - val_aux_output_loss: 1.6724\n",
            "Epoch 11/20\n",
            "363/363 [==============================] - 1s 2ms/step - loss: 0.5549 - main_output_loss: 0.4875 - aux_output_loss: 1.1618 - val_loss: 0.5613 - val_main_output_loss: 0.4569 - val_aux_output_loss: 1.5014\n",
            "Epoch 12/20\n",
            "363/363 [==============================] - 1s 3ms/step - loss: 0.5449 - main_output_loss: 0.4794 - aux_output_loss: 1.1340 - val_loss: 0.5459 - val_main_output_loss: 0.4537 - val_aux_output_loss: 1.3759\n",
            "Epoch 13/20\n",
            "363/363 [==============================] - 1s 3ms/step - loss: 0.5358 - main_output_loss: 0.4722 - aux_output_loss: 1.1082 - val_loss: 0.5273 - val_main_output_loss: 0.4445 - val_aux_output_loss: 1.2729\n",
            "Epoch 14/20\n",
            "363/363 [==============================] - 1s 2ms/step - loss: 0.5273 - main_output_loss: 0.4654 - aux_output_loss: 1.0846 - val_loss: 0.5173 - val_main_output_loss: 0.4417 - val_aux_output_loss: 1.1980\n",
            "Epoch 15/20\n",
            "363/363 [==============================] - 1s 2ms/step - loss: 0.5194 - main_output_loss: 0.4592 - aux_output_loss: 1.0619 - val_loss: 0.5053 - val_main_output_loss: 0.4349 - val_aux_output_loss: 1.1388\n",
            "Epoch 16/20\n",
            "363/363 [==============================] - 1s 2ms/step - loss: 0.5118 - main_output_loss: 0.4531 - aux_output_loss: 1.0395 - val_loss: 0.5041 - val_main_output_loss: 0.4386 - val_aux_output_loss: 1.0936\n",
            "Epoch 17/20\n",
            "363/363 [==============================] - 1s 2ms/step - loss: 0.5048 - main_output_loss: 0.4477 - aux_output_loss: 1.0186 - val_loss: 0.4929 - val_main_output_loss: 0.4305 - val_aux_output_loss: 1.0543\n",
            "Epoch 18/20\n",
            "363/363 [==============================] - 1s 2ms/step - loss: 0.4982 - main_output_loss: 0.4427 - aux_output_loss: 0.9978 - val_loss: 0.4895 - val_main_output_loss: 0.4303 - val_aux_output_loss: 1.0224\n",
            "Epoch 19/20\n",
            "363/363 [==============================] - 1s 2ms/step - loss: 0.4927 - main_output_loss: 0.4388 - aux_output_loss: 0.9783 - val_loss: 0.4844 - val_main_output_loss: 0.4275 - val_aux_output_loss: 0.9964\n",
            "Epoch 20/20\n",
            "363/363 [==============================] - 1s 2ms/step - loss: 0.4870 - main_output_loss: 0.4345 - aux_output_loss: 0.9600 - val_loss: 0.4739 - val_main_output_loss: 0.4185 - val_aux_output_loss: 0.9722\n"
          ]
        }
      ],
      "source": [
        "history = model.fit([X_train_A, X_train_B], [y_train, y_train], epochs=20,\n",
        "                    validation_data=([X_valid_A, X_valid_B], [y_valid, y_valid]))"
      ]
    },
    {
      "cell_type": "code",
      "execution_count": null,
      "metadata": {
        "colab": {
          "base_uri": "https://localhost:8080/"
        },
        "id": "G5TmcSA19ge7",
        "outputId": "8df2fdfd-c842-4d94-b9a0-6f0a7f4c1cfd"
      },
      "outputs": [
        {
          "name": "stdout",
          "output_type": "stream",
          "text": [
            "162/162 [==============================] - 0s 1ms/step - loss: 0.4763 - main_output_loss: 0.4254 - aux_output_loss: 0.9347\n",
            "1/1 [==============================] - 0s 92ms/step\n"
          ]
        }
      ],
      "source": [
        "total_loss, main_loss, aux_loss = model.evaluate(\n",
        "    [X_test_A, X_test_B], [y_test, y_test])\n",
        "y_pred_main, y_pred_aux = model.predict([X_new_A, X_new_B])"
      ]
    },
    {
      "cell_type": "code",
      "execution_count": null,
      "metadata": {
        "id": "JKopABQosVEV"
      },
      "outputs": [],
      "source": [
        "class WideAndDeepModel(keras.models.Model):\n",
        "    def __init__(self, units=30, activation=\"relu\", **kwargs):\n",
        "        super().__init__(**kwargs)\n",
        "        self.hidden1 = keras.layers.Dense(units, activation=activation)\n",
        "        self.hidden2 = keras.layers.Dense(units, activation=activation)\n",
        "        self.main_output = keras.layers.Dense(1)\n",
        "        self.aux_output = keras.layers.Dense(1)\n",
        "\n",
        "    def call(self, inputs):\n",
        "        input_A, input_B = inputs\n",
        "        hidden1 = self.hidden1(input_B)\n",
        "        hidden2 = self.hidden2(hidden1)\n",
        "        concat = keras.layers.concatenate([input_A, hidden2])\n",
        "        main_output = self.main_output(concat)\n",
        "        aux_output = self.aux_output(hidden2)\n",
        "        return main_output, aux_output\n",
        "\n",
        "model = WideAndDeepModel(30, activation=\"relu\")"
      ]
    },
    {
      "cell_type": "code",
      "execution_count": null,
      "metadata": {
        "colab": {
          "base_uri": "https://localhost:8080/"
        },
        "id": "mcmQvBPP9n4M",
        "outputId": "1b3216ff-50a4-4496-d90f-e07348ac6a7f"
      },
      "outputs": [
        {
          "name": "stdout",
          "output_type": "stream",
          "text": [
            "Epoch 1/10\n",
            "363/363 [==============================] - 2s 3ms/step - loss: 2.5056 - output_1_loss: 2.2229 - output_2_loss: 5.0499 - val_loss: 3.1698 - val_output_1_loss: 3.0856 - val_output_2_loss: 3.9272\n",
            "Epoch 2/10\n",
            "363/363 [==============================] - 1s 2ms/step - loss: 1.1399 - output_1_loss: 0.8994 - output_2_loss: 3.3045 - val_loss: 1.2976 - val_output_1_loss: 1.1489 - val_output_2_loss: 2.6356\n",
            "Epoch 3/10\n",
            "363/363 [==============================] - 1s 2ms/step - loss: 0.8851 - output_1_loss: 0.7227 - output_2_loss: 2.3467 - val_loss: 0.9066 - val_output_1_loss: 0.7726 - val_output_2_loss: 2.1119\n",
            "Epoch 4/10\n",
            "363/363 [==============================] - 1s 2ms/step - loss: 0.7738 - output_1_loss: 0.6545 - output_2_loss: 1.8467 - val_loss: 0.7647 - val_output_1_loss: 0.6459 - val_output_2_loss: 1.8337\n",
            "Epoch 5/10\n",
            "363/363 [==============================] - 1s 2ms/step - loss: 0.7078 - output_1_loss: 0.6113 - output_2_loss: 1.5760 - val_loss: 0.6920 - val_output_1_loss: 0.5869 - val_output_2_loss: 1.6380\n",
            "Epoch 6/10\n",
            "363/363 [==============================] - 1s 2ms/step - loss: 0.6627 - output_1_loss: 0.5781 - output_2_loss: 1.4236 - val_loss: 0.6397 - val_output_1_loss: 0.5469 - val_output_2_loss: 1.4748\n",
            "Epoch 7/10\n",
            "363/363 [==============================] - 1s 2ms/step - loss: 0.6287 - output_1_loss: 0.5509 - output_2_loss: 1.3287 - val_loss: 0.5998 - val_output_1_loss: 0.5162 - val_output_2_loss: 1.3519\n",
            "Epoch 8/10\n",
            "363/363 [==============================] - 1s 2ms/step - loss: 0.6013 - output_1_loss: 0.5277 - output_2_loss: 1.2638 - val_loss: 0.5723 - val_output_1_loss: 0.4960 - val_output_2_loss: 1.2586\n",
            "Epoch 9/10\n",
            "363/363 [==============================] - 1s 2ms/step - loss: 0.5787 - output_1_loss: 0.5084 - output_2_loss: 1.2123 - val_loss: 0.5511 - val_output_1_loss: 0.4789 - val_output_2_loss: 1.2007\n",
            "Epoch 10/10\n",
            "363/363 [==============================] - 1s 2ms/step - loss: 0.5600 - output_1_loss: 0.4919 - output_2_loss: 1.1732 - val_loss: 0.5310 - val_output_1_loss: 0.4610 - val_output_2_loss: 1.1605\n",
            "162/162 [==============================] - 0s 1ms/step - loss: 0.5395 - output_1_loss: 0.4716 - output_2_loss: 1.1503\n",
            "1/1 [==============================] - 0s 59ms/step\n"
          ]
        }
      ],
      "source": [
        "model.compile(loss=\"mse\", loss_weights=[0.9, 0.1], optimizer=keras.optimizers.SGD(learning_rate=1e-3))\n",
        "history = model.fit((X_train_A, X_train_B), (y_train, y_train), epochs=10,\n",
        "                    validation_data=((X_valid_A, X_valid_B), (y_valid, y_valid)))\n",
        "total_loss, main_loss, aux_loss = model.evaluate((X_test_A, X_test_B), (y_test, y_test))\n",
        "y_pred_main, y_pred_aux = model.predict((X_new_A, X_new_B))"
      ]
    },
    {
      "cell_type": "code",
      "execution_count": null,
      "metadata": {
        "colab": {
          "base_uri": "https://localhost:8080/"
        },
        "id": "RqqangMFvhuF",
        "outputId": "bc743dd0-eee5-4a04-d872-50d204377ef8"
      },
      "outputs": [
        {
          "name": "stdout",
          "output_type": "stream",
          "text": [
            "Epoch 1/20\n",
            "363/363 [==============================] - 2s 3ms/step - loss: 2.1544 - val_loss: 0.9385\n",
            "Epoch 2/20\n",
            "363/363 [==============================] - 1s 2ms/step - loss: 0.8113 - val_loss: 0.7006\n",
            "Epoch 3/20\n",
            "363/363 [==============================] - 1s 2ms/step - loss: 0.7111 - val_loss: 0.6603\n",
            "Epoch 4/20\n",
            "363/363 [==============================] - 1s 2ms/step - loss: 0.6846 - val_loss: 0.6364\n",
            "Epoch 5/20\n",
            "363/363 [==============================] - 1s 2ms/step - loss: 0.6647 - val_loss: 0.6193\n",
            "Epoch 6/20\n",
            "363/363 [==============================] - 1s 2ms/step - loss: 0.6481 - val_loss: 0.6056\n",
            "Epoch 7/20\n",
            "363/363 [==============================] - 1s 2ms/step - loss: 0.6346 - val_loss: 0.5927\n",
            "Epoch 8/20\n",
            "363/363 [==============================] - 1s 2ms/step - loss: 0.6230 - val_loss: 0.5832\n",
            "Epoch 9/20\n",
            "363/363 [==============================] - 1s 2ms/step - loss: 0.6133 - val_loss: 0.5757\n",
            "Epoch 10/20\n",
            "363/363 [==============================] - 1s 2ms/step - loss: 0.6055 - val_loss: 0.5682\n",
            "Epoch 11/20\n",
            "363/363 [==============================] - 1s 2ms/step - loss: 0.5982 - val_loss: 0.5621\n",
            "Epoch 12/20\n",
            "363/363 [==============================] - 1s 2ms/step - loss: 0.5921 - val_loss: 0.5573\n",
            "Epoch 13/20\n",
            "363/363 [==============================] - 1s 2ms/step - loss: 0.5866 - val_loss: 0.5530\n",
            "Epoch 14/20\n",
            "363/363 [==============================] - 1s 2ms/step - loss: 0.5816 - val_loss: 0.5490\n",
            "Epoch 15/20\n",
            "363/363 [==============================] - 1s 2ms/step - loss: 0.5773 - val_loss: 0.5454\n",
            "Epoch 16/20\n",
            "363/363 [==============================] - 1s 2ms/step - loss: 0.5733 - val_loss: 0.5427\n",
            "Epoch 17/20\n",
            "363/363 [==============================] - 1s 2ms/step - loss: 0.5697 - val_loss: 0.5399\n",
            "Epoch 18/20\n",
            "363/363 [==============================] - 1s 3ms/step - loss: 0.5662 - val_loss: 0.5369\n",
            "Epoch 19/20\n",
            "363/363 [==============================] - 1s 3ms/step - loss: 0.5635 - val_loss: 0.5348\n",
            "Epoch 20/20\n",
            "363/363 [==============================] - 1s 2ms/step - loss: 0.5609 - val_loss: 0.5338\n",
            "162/162 [==============================] - 0s 1ms/step - loss: 0.5603\n",
            "1/1 [==============================] - 0s 43ms/step\n",
            "Epoch 1/20\n",
            "363/363 [==============================] - 1s 3ms/step - loss: 2.5027 - main_output_loss: 2.3469 - aux_output_loss: 3.9047 - val_loss: 5.8409 - val_main_output_loss: 5.9215 - val_aux_output_loss: 5.1159\n",
            "Epoch 2/20\n",
            "363/363 [==============================] - 1s 2ms/step - loss: 1.0440 - main_output_loss: 0.8788 - aux_output_loss: 2.5307 - val_loss: 1.6862 - val_main_output_loss: 1.2626 - val_aux_output_loss: 5.4984\n",
            "Epoch 3/20\n",
            "363/363 [==============================] - 1s 2ms/step - loss: 0.8623 - main_output_loss: 0.7421 - aux_output_loss: 1.9438 - val_loss: 1.2205 - val_main_output_loss: 0.7160 - val_aux_output_loss: 5.7611\n",
            "Epoch 4/20\n",
            "363/363 [==============================] - 1s 3ms/step - loss: 0.7815 - main_output_loss: 0.6823 - aux_output_loss: 1.6740 - val_loss: 1.1110 - val_main_output_loss: 0.6366 - val_aux_output_loss: 5.3813\n",
            "Epoch 5/20\n",
            "363/363 [==============================] - 1s 2ms/step - loss: 0.7271 - main_output_loss: 0.6382 - aux_output_loss: 1.5276 - val_loss: 1.0166 - val_main_output_loss: 0.6029 - val_aux_output_loss: 4.7399\n",
            "Epoch 6/20\n",
            "363/363 [==============================] - 1s 2ms/step - loss: 0.6845 - main_output_loss: 0.6010 - aux_output_loss: 1.4356 - val_loss: 0.9108 - val_main_output_loss: 0.5665 - val_aux_output_loss: 4.0096\n",
            "Epoch 7/20\n",
            "363/363 [==============================] - 1s 2ms/step - loss: 0.6479 - main_output_loss: 0.5680 - aux_output_loss: 1.3672 - val_loss: 0.8385 - val_main_output_loss: 0.5562 - val_aux_output_loss: 3.3791\n",
            "Epoch 8/20\n",
            "363/363 [==============================] - 1s 2ms/step - loss: 0.6173 - main_output_loss: 0.5404 - aux_output_loss: 1.3094 - val_loss: 0.7477 - val_main_output_loss: 0.5149 - val_aux_output_loss: 2.8427\n",
            "Epoch 9/20\n",
            "363/363 [==============================] - 1s 2ms/step - loss: 0.5921 - main_output_loss: 0.5180 - aux_output_loss: 1.2589 - val_loss: 0.6820 - val_main_output_loss: 0.4869 - val_aux_output_loss: 2.4380\n",
            "Epoch 10/20\n",
            "363/363 [==============================] - 1s 2ms/step - loss: 0.5713 - main_output_loss: 0.4996 - aux_output_loss: 1.2172 - val_loss: 0.6301 - val_main_output_loss: 0.4682 - val_aux_output_loss: 2.0871\n",
            "Epoch 11/20\n",
            "363/363 [==============================] - 1s 2ms/step - loss: 0.5548 - main_output_loss: 0.4855 - aux_output_loss: 1.1785 - val_loss: 0.5877 - val_main_output_loss: 0.4489 - val_aux_output_loss: 1.8375\n",
            "Epoch 12/20\n",
            "363/363 [==============================] - 1s 3ms/step - loss: 0.5413 - main_output_loss: 0.4742 - aux_output_loss: 1.1448 - val_loss: 0.5572 - val_main_output_loss: 0.4376 - val_aux_output_loss: 1.6337\n",
            "Epoch 13/20\n",
            "363/363 [==============================] - 1s 3ms/step - loss: 0.5299 - main_output_loss: 0.4650 - aux_output_loss: 1.1139 - val_loss: 0.5322 - val_main_output_loss: 0.4288 - val_aux_output_loss: 1.4626\n",
            "Epoch 14/20\n",
            "363/363 [==============================] - 1s 2ms/step - loss: 0.5198 - main_output_loss: 0.4570 - aux_output_loss: 1.0842 - val_loss: 0.5146 - val_main_output_loss: 0.4227 - val_aux_output_loss: 1.3419\n",
            "Epoch 15/20\n",
            "363/363 [==============================] - 1s 3ms/step - loss: 0.5119 - main_output_loss: 0.4512 - aux_output_loss: 1.0579 - val_loss: 0.4990 - val_main_output_loss: 0.4164 - val_aux_output_loss: 1.2428\n",
            "Epoch 16/20\n",
            "363/363 [==============================] - 1s 2ms/step - loss: 0.5045 - main_output_loss: 0.4459 - aux_output_loss: 1.0315 - val_loss: 0.4888 - val_main_output_loss: 0.4136 - val_aux_output_loss: 1.1661\n",
            "Epoch 17/20\n",
            "363/363 [==============================] - 1s 2ms/step - loss: 0.4981 - main_output_loss: 0.4415 - aux_output_loss: 1.0077 - val_loss: 0.4800 - val_main_output_loss: 0.4113 - val_aux_output_loss: 1.0980\n",
            "Epoch 18/20\n",
            "363/363 [==============================] - 1s 2ms/step - loss: 0.4923 - main_output_loss: 0.4375 - aux_output_loss: 0.9855 - val_loss: 0.4771 - val_main_output_loss: 0.4141 - val_aux_output_loss: 1.0442\n",
            "Epoch 19/20\n",
            "363/363 [==============================] - 1s 2ms/step - loss: 0.4868 - main_output_loss: 0.4338 - aux_output_loss: 0.9636 - val_loss: 0.4625 - val_main_output_loss: 0.4029 - val_aux_output_loss: 0.9987\n",
            "Epoch 20/20\n",
            "363/363 [==============================] - 1s 2ms/step - loss: 0.4825 - main_output_loss: 0.4314 - aux_output_loss: 0.9422 - val_loss: 0.4624 - val_main_output_loss: 0.4062 - val_aux_output_loss: 0.9685\n",
            "162/162 [==============================] - 0s 2ms/step - loss: 0.4752 - main_output_loss: 0.4256 - aux_output_loss: 0.9211\n",
            "1/1 [==============================] - 0s 85ms/step\n"
          ]
        }
      ],
      "source": [
        "# Using Sequential API\n",
        "model_sequential = keras.models.Sequential([\n",
        "    keras.layers.Dense(30, activation=\"relu\", input_shape=X_train_A.shape[1:]),\n",
        "    keras.layers.Dense(30, activation=\"relu\"),\n",
        "    keras.layers.Dense(1)\n",
        "])\n",
        "\n",
        "model_sequential.compile(loss=\"mse\", optimizer=keras.optimizers.SGD(learning_rate=1e-3))\n",
        "history_sequential = model_sequential.fit(X_train_A, y_train, epochs=20,\n",
        "                                          validation_data=(X_valid_A, y_valid))\n",
        "mse_test_sequential = model_sequential.evaluate(X_test_A, y_test)\n",
        "y_pred_main_sequential = model_sequential.predict(X_new_A)\n",
        "\n",
        "# Using Functional API\n",
        "input_A_func = keras.layers.Input(shape=[5], name=\"wide_input\")\n",
        "input_B_func = keras.layers.Input(shape=[6], name=\"deep_input\")\n",
        "hidden1_func = keras.layers.Dense(30, activation=\"relu\")(input_B_func)\n",
        "hidden2_func = keras.layers.Dense(30, activation=\"relu\")(hidden1_func)\n",
        "concat_func = keras.layers.concatenate([input_A_func, hidden2_func])\n",
        "output_func = keras.layers.Dense(1, name=\"main_output\")(concat_func)\n",
        "aux_output_func = keras.layers.Dense(1, name=\"aux_output\")(hidden2_func)\n",
        "\n",
        "model_functional = keras.models.Model(inputs=[input_A_func, input_B_func],\n",
        "                                      outputs=[output_func, aux_output_func])\n",
        "\n",
        "model_functional.compile(loss=[\"mse\", \"mse\"], loss_weights=[0.9, 0.1],\n",
        "                         optimizer=keras.optimizers.SGD(learning_rate=1e-3))\n",
        "\n",
        "history_functional = model_functional.fit([X_train_A, X_train_B], [y_train, y_train], epochs=20,\n",
        "                                          validation_data=([X_valid_A, X_valid_B], [y_valid, y_valid]))\n",
        "\n",
        "total_loss_functional, main_loss_functional, aux_loss_functional = model_functional.evaluate(\n",
        "    [X_test_A, X_test_B], [y_test, y_test])\n",
        "y_pred_main_functional, y_pred_aux_functional = model_functional.predict([X_new_A, X_new_B])"
      ]
    },
    {
      "cell_type": "markdown",
      "metadata": {
        "id": "LnsOphmCw2yJ"
      },
      "source": [
        "눈에 보이는 결과를 나타내기 위해 코드 생성. mse 는 평균 제곱 오차를 의미한다.\n",
        "Functional API의 출력은 주 출력과 부 출력으로 나뉘어지며, 첫번째 숫자는 출력, 2,3번째 숫자는 부출력을 의미한다."
      ]
    },
    {
      "cell_type": "code",
      "execution_count": null,
      "metadata": {
        "colab": {
          "base_uri": "https://localhost:8080/"
        },
        "id": "KEjy2Ynyv-LM",
        "outputId": "736d9b23-11a8-41cb-91e6-47f5f0806c1a"
      },
      "outputs": [
        {
          "name": "stdout",
          "output_type": "stream",
          "text": [
            "162/162 [==============================] - 0s 2ms/step - loss: 0.5603\n",
            "162/162 [==============================] - 0s 2ms/step - loss: 0.4752 - main_output_loss: 0.4256 - aux_output_loss: 0.9211\n",
            "Sequential API MSE: 0.5602796673774719\n",
            "Functional API MSE: [0.4751598834991455, 0.4256158769130707, 0.9210532307624817]\n"
          ]
        }
      ],
      "source": [
        "# 성능 비교\n",
        "mse_test_sequential = model_sequential.evaluate(X_test_A, y_test)\n",
        "mse_test_functional = model_functional.evaluate([X_test_A, X_test_B], [y_test, y_test])\n",
        "print(\"Sequential API MSE:\", mse_test_sequential)\n",
        "print(\"Functional API MSE:\", mse_test_functional)"
      ]
    },
    {
      "cell_type": "code",
      "execution_count": null,
      "metadata": {
        "colab": {
          "base_uri": "https://localhost:8080/"
        },
        "id": "LqGamgU6BxCa",
        "outputId": "ad120192-59a5-428b-cc44-65781a1d5762"
      },
      "outputs": [
        {
          "name": "stdout",
          "output_type": "stream",
          "text": [
            "Epoch 1/20\n",
            "363/363 [==============================] - 1s 2ms/step - loss: 1.8453 - val_loss: 0.7852\n",
            "Epoch 2/20\n",
            "363/363 [==============================] - 1s 2ms/step - loss: 0.7256 - val_loss: 0.6571\n",
            "Epoch 3/20\n",
            "363/363 [==============================] - 1s 2ms/step - loss: 0.6702 - val_loss: 0.6211\n",
            "Epoch 4/20\n",
            "363/363 [==============================] - 1s 2ms/step - loss: 0.6424 - val_loss: 0.6003\n",
            "Epoch 5/20\n",
            "363/363 [==============================] - 1s 2ms/step - loss: 0.6222 - val_loss: 0.5825\n",
            "Epoch 6/20\n",
            "363/363 [==============================] - 1s 2ms/step - loss: 0.6062 - val_loss: 0.5713\n",
            "Epoch 7/20\n",
            "363/363 [==============================] - 1s 2ms/step - loss: 0.5942 - val_loss: 0.5596\n",
            "Epoch 8/20\n",
            "363/363 [==============================] - 1s 2ms/step - loss: 0.5846 - val_loss: 0.5527\n",
            "Epoch 9/20\n",
            "363/363 [==============================] - 1s 2ms/step - loss: 0.5773 - val_loss: 0.5483\n",
            "Epoch 10/20\n",
            "363/363 [==============================] - 1s 2ms/step - loss: 0.5712 - val_loss: 0.5429\n",
            "Epoch 11/20\n",
            "363/363 [==============================] - 1s 2ms/step - loss: 0.5665 - val_loss: 0.5397\n",
            "Epoch 12/20\n",
            "363/363 [==============================] - 1s 2ms/step - loss: 0.5625 - val_loss: 0.5367\n",
            "Epoch 13/20\n",
            "363/363 [==============================] - 1s 2ms/step - loss: 0.5588 - val_loss: 0.5346\n",
            "Epoch 14/20\n",
            "363/363 [==============================] - 1s 2ms/step - loss: 0.5560 - val_loss: 0.5317\n",
            "Epoch 15/20\n",
            "363/363 [==============================] - 1s 2ms/step - loss: 0.5533 - val_loss: 0.5299\n",
            "Epoch 16/20\n",
            "363/363 [==============================] - 1s 3ms/step - loss: 0.5507 - val_loss: 0.5294\n",
            "Epoch 17/20\n",
            "363/363 [==============================] - 1s 2ms/step - loss: 0.5485 - val_loss: 0.5276\n",
            "Epoch 18/20\n",
            "363/363 [==============================] - 1s 2ms/step - loss: 0.5468 - val_loss: 0.5256\n",
            "Epoch 19/20\n",
            "363/363 [==============================] - 1s 2ms/step - loss: 0.5449 - val_loss: 0.5240\n",
            "Epoch 20/20\n",
            "363/363 [==============================] - 1s 2ms/step - loss: 0.5430 - val_loss: 0.5234\n",
            "162/162 [==============================] - 0s 1ms/step - loss: 0.5425\n",
            "Performance: 최상\n"
          ]
        }
      ],
      "source": [
        "# 다층 퍼셉트론 모델 아키텍처 정의\n",
        "mlp_model = keras.models.Sequential([\n",
        "    keras.layers.Dense(100, activation=\"relu\", input_shape=X_train_A.shape[1:]),\n",
        "    keras.layers.Dense(50, activation=\"relu\"),\n",
        "    keras.layers.Dense(1)\n",
        "])\n",
        "\n",
        "# 컴파일\n",
        "mlp_model.compile(loss=\"mse\", optimizer=keras.optimizers.SGD(learning_rate=1e-3))\n",
        "\n",
        "# 훈련하기\n",
        "history_mlp = mlp_model.fit(X_train_A, y_train, epochs=20,\n",
        "                             validation_data=(X_valid_A, y_valid))\n",
        "\n",
        "# 모델 평\n",
        "mse_test_mlp = mlp_model.evaluate(X_test_A, y_test)\n",
        "\n",
        "# 평균 제곱 오차 기준으로 성능 출력\n",
        "if mse_test_mlp <= 20:\n",
        "    print(\"Performance: 최상\")\n",
        "elif mse_test_mlp <= 40:\n",
        "    print(\"Performance: 상\")\n",
        "elif mse_test_mlp <= 80:\n",
        "    print(\"Performance: 중\")\n",
        "else:\n",
        "    print(\"Performance: 하\")"
      ]
    }
  ],
  "metadata": {
    "colab": {
      "provenance": []
    },
    "kernelspec": {
      "display_name": "Python 3",
      "name": "python3"
    },
    "language_info": {
      "name": "python"
    }
  },
  "nbformat": 4,
  "nbformat_minor": 0
}
